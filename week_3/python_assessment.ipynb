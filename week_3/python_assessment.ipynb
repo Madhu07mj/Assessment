{
 "cells": [
  {
   "cell_type": "markdown",
   "id": "477e7777",
   "metadata": {},
   "source": [
    "# 1. Write a regex to find all digits in a string and return them as a list."
   ]
  },
  {
   "cell_type": "code",
   "execution_count": 2,
   "id": "edcaecc6",
   "metadata": {},
   "outputs": [
    {
     "name": "stdout",
     "output_type": "stream",
     "text": [
      "Extracted numbers: ['21', '2003']\n"
     ]
    }
   ],
   "source": [
    "import re\n",
    "\n",
    "def extract_numbers(text):\n",
    "    \"\"\"Extracts full numbers from the input text.\"\"\"\n",
    "    return re.findall(r'\\d+', text)\n",
    "\n",
    "user_input = input(\"Enter a string with numbers: \")\n",
    "numbers = extract_numbers(user_input)\n",
    "\n",
    "print(\"Extracted numbers:\", numbers)\n"
   ]
  },
  {
   "cell_type": "markdown",
   "id": "bfbf2e86",
   "metadata": {},
   "source": [
    "# 2. Write a regex function that replaces all multiple spaces in a string with a single space."
   ]
  },
  {
   "cell_type": "code",
   "execution_count": 3,
   "id": "cc2f5179",
   "metadata": {},
   "outputs": [
    {
     "name": "stdout",
     "output_type": "stream",
     "text": [
      "Cleaned text: my name is madhu\n"
     ]
    }
   ],
   "source": [
    "import re\n",
    "\n",
    "def replace_multiple_spaces(text):\n",
    "    return re.sub(r'\\s+', ' ', text).strip()\n",
    "\n",
    "user_input = input(\"Enter your text: \")\n",
    "cleaned_text = replace_multiple_spaces(user_input)\n",
    "print(\"Cleaned text:\", cleaned_text)\n"
   ]
  },
  {
   "cell_type": "markdown",
   "id": "c223e883",
   "metadata": {},
   "source": [
    "# 3. Write a regex pattern to extract all valid email addresses from a given text."
   ]
  },
  {
   "cell_type": "code",
   "execution_count": 10,
   "id": "d2ffd912",
   "metadata": {},
   "outputs": [
    {
     "name": "stdout",
     "output_type": "stream",
     "text": [
      "['madhujangala@gmail.com', 'sales-info@company.in', 'john.123@domain.org']\n"
     ]
    }
   ],
   "source": [
    "import re\n",
    "\n",
    "def extract_emails(text):\n",
    "\n",
    "    email_pattern = r'[a-zA-Z0-9._%+-]+@[a-zA-Z0-9.-]+\\.[a-zA-Z]{2,}'\n",
    "    emails = re.findall(email_pattern, text)    \n",
    "    return emails\n",
    "\n",
    "text = \"\"\"\n",
    "        Please contact us at madhujangala@gmail.com or sales-info@company.in\n",
    "        You can also reach out to John at john.123@domain.org\n",
    "\n",
    "       \"\"\"\n",
    "\n",
    "found_emails = extract_emails(text)\n",
    "print(found_emails)"
   ]
  },
  {
   "cell_type": "code",
   "execution_count": null,
   "id": "dbfb6f07",
   "metadata": {},
   "outputs": [],
   "source": []
  }
 ],
 "metadata": {
  "kernelspec": {
   "display_name": "Python 3",
   "language": "python",
   "name": "python3"
  },
  "language_info": {
   "codemirror_mode": {
    "name": "ipython",
    "version": 3
   },
   "file_extension": ".py",
   "mimetype": "text/x-python",
   "name": "python",
   "nbconvert_exporter": "python",
   "pygments_lexer": "ipython3",
   "version": "3.13.3"
  }
 },
 "nbformat": 4,
 "nbformat_minor": 5
}
