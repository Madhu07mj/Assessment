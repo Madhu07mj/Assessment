{
 "cells": [
  {
   "cell_type": "markdown",
   "id": "2143c22a",
   "metadata": {},
   "source": [
    "# 1.Write a function that takes two numbers as input and returns their sum."
   ]
  },
  {
   "cell_type": "code",
   "execution_count": 5,
   "id": "410b598e",
   "metadata": {},
   "outputs": [
    {
     "name": "stdout",
     "output_type": "stream",
     "text": [
      "The sum of 20.0 and 80.0 is: 100.0\n"
     ]
    }
   ],
   "source": [
    "def sum_of_two_numbers(a, b):\n",
    "    return a + b\n",
    "\n",
    "def get_number(type_checking):\n",
    "    while True:\n",
    "        try:\n",
    "            return float(input(type_checking))\n",
    "        except ValueError:\n",
    "            print(\"Invalid input. Please enter a valid number.\")\n",
    "\n",
    "a = get_number(\"Enter the first number: \")\n",
    "b = get_number(\"Enter the second number: \")\n",
    "\n",
    "result = sum_of_two_numbers(a, b)\n",
    "print(f\"The sum of {a} and {b} is: {result}\")\n"
   ]
  },
  {
   "cell_type": "markdown",
   "id": "0e43f8d0",
   "metadata": {},
   "source": [
    "# 2.Write a Python program that checks whether a number is even or odd using a function."
   ]
  },
  {
   "cell_type": "code",
   "execution_count": 4,
   "id": "daab13ed",
   "metadata": {},
   "outputs": [
    {
     "name": "stdout",
     "output_type": "stream",
     "text": [
      "The number 10 is Even.\n"
     ]
    }
   ],
   "source": [
    "def check_even_or_odd(n):\n",
    "    if n & 1 == 0:\n",
    "        return \"Even\"\n",
    "    else:\n",
    "        return \"Odd\"\n",
    "\n",
    "number = int(input(\"Enter a number: \"))\n",
    "\n",
    "result = check_even_or_odd(number)\n",
    "print(f\"The number {number} is {result}.\")\n"
   ]
  }
 ],
 "metadata": {
  "kernelspec": {
   "display_name": "Python 3",
   "language": "python",
   "name": "python3"
  },
  "language_info": {
   "codemirror_mode": {
    "name": "ipython",
    "version": 3
   },
   "file_extension": ".py",
   "mimetype": "text/x-python",
   "name": "python",
   "nbconvert_exporter": "python",
   "pygments_lexer": "ipython3",
   "version": "3.13.3"
  }
 },
 "nbformat": 4,
 "nbformat_minor": 5
}
