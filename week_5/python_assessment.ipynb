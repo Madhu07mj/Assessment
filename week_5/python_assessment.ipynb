{
 "cells": [
  {
   "cell_type": "markdown",
   "id": "4e017fe6",
   "metadata": {},
   "source": [
    "# 1.  Write a Python function that reads a file and prints its content."
   ]
  },
  {
   "cell_type": "code",
   "execution_count": 5,
   "id": "06238155",
   "metadata": {},
   "outputs": [
    {
     "name": "stdout",
     "output_type": "stream",
     "text": [
      "Reading from: sample.txt\n",
      "----------------------------------------\n",
      "1 : hello\n",
      "2 : hi\n",
      "3 : madhu\n"
     ]
    }
   ],
   "source": [
    "def read_and_print_file():\n",
    "\n",
    "    file_name = \"sample.txt\" \n",
    "\n",
    "    try:\n",
    "        with open(file_name, 'r', encoding='utf-8') as file:\n",
    "            print(f\"Reading from: {file_name}\")\n",
    "            print(\"-\" * 40)\n",
    "\n",
    "            line_number = 1\n",
    "            for line in file:\n",
    "                print(line_number, \":\", line.rstrip())\n",
    "                line_number += 1\n",
    "\n",
    "    except FileNotFoundError:\n",
    "        print(f\"Error: File '{file_name}' not found.\")\n",
    "\n",
    "    except Exception as e:\n",
    "        print(f\"An unexpected error occurred: {e}\")\n",
    "\n",
    "read_and_print_file()\n"
   ]
  },
  {
   "cell_type": "markdown",
   "id": "3bcc98a2",
   "metadata": {},
   "source": [
    "# 2.  Write a class `Rectangle` with `length` and `width`, and a method to calculate area. Create an object and show usage.\n"
   ]
  },
  {
   "cell_type": "code",
   "execution_count": 6,
   "id": "b53d57de",
   "metadata": {},
   "outputs": [
    {
     "name": "stdout",
     "output_type": "stream",
     "text": [
      "Length: 10.0\n",
      "Width: 14.0\n",
      "Area of Rectangle: 140.0\n"
     ]
    }
   ],
   "source": [
    "class Rectangle:\n",
    "\n",
    "    def __init__(self, length, width):\n",
    "        self.length = length\n",
    "        self.width = width\n",
    "\n",
    "    def area(self): \n",
    "        return self.length * self.width\n",
    "\n",
    "try:\n",
    "    length = float(input(\"Enter the length of the rectangle: \"))\n",
    "    width = float(input(\"Enter the width of the rectangle: \"))\n",
    "\n",
    "    rect = Rectangle(length, width)\n",
    "    \n",
    "    print(\"Length:\", rect.length)\n",
    "    print(\"Width:\", rect.width)\n",
    "    print(\"Area of Rectangle:\", rect.area())\n",
    "\n",
    "except ValueError:\n",
    "    print(\"Please enter valid numeric values for length and width.\")\n"
   ]
  },
  {
   "cell_type": "markdown",
   "id": "f1a2df77",
   "metadata": {},
   "source": [
    "# 3.Write a unit test using unittest module to test a function add(a, b) that returns the sum of two numbers."
   ]
  },
  {
   "cell_type": "code",
   "execution_count": 9,
   "id": "14f60006",
   "metadata": {},
   "outputs": [
    {
     "name": "stderr",
     "output_type": "stream",
     "text": [
      "....\n",
      "----------------------------------------------------------------------\n",
      "Ran 4 tests in 0.006s\n",
      "\n",
      "OK\n"
     ]
    },
    {
     "data": {
      "text/plain": [
       "<unittest.main.TestProgram at 0x1dd112d60d0>"
      ]
     },
     "execution_count": 9,
     "metadata": {},
     "output_type": "execute_result"
    }
   ],
   "source": [
    "import unittest\n",
    "\n",
    "def add(a, b):\n",
    "    return a + b\n",
    "\n",
    "class TestAddFunction(unittest.TestCase):\n",
    "\n",
    "    def test_add_positive_numbers(self):\n",
    "        self.assertEqual(add(3, 4), 7)\n",
    "\n",
    "    def test_add_negative_numbers(self):\n",
    "        self.assertEqual(add(-2, -5), -7)\n",
    "\n",
    "    def test_add_mixed_numbers(self):\n",
    "        self.assertEqual(add(-3, 6), 3)\n",
    "\n",
    "    def test_add_zeros(self):\n",
    "        self.assertEqual(add(0, 0), 0)\n",
    "\n",
    "unittest.main(argv=['first-arg-is-ignored'], exit=False)"
   ]
  }
 ],
 "metadata": {
  "kernelspec": {
   "display_name": "Python 3",
   "language": "python",
   "name": "python3"
  },
  "language_info": {
   "codemirror_mode": {
    "name": "ipython",
    "version": 3
   },
   "file_extension": ".py",
   "mimetype": "text/x-python",
   "name": "python",
   "nbconvert_exporter": "python",
   "pygments_lexer": "ipython3",
   "version": "3.13.3"
  }
 },
 "nbformat": 4,
 "nbformat_minor": 5
}
