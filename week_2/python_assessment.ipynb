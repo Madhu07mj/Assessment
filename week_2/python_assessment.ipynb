{
 "cells": [
  {
   "cell_type": "markdown",
   "id": "255a2a2a",
   "metadata": {},
   "source": [
    "# 1.Write a function that uses a lambda to double a number.\n",
    "```\n",
    "Example 1:\n",
    "Input: 5\n",
    "Output: 10\n",
    "\n",
    "Example 2:\n",
    "Input: 12\n",
    "Output: 24\n",
    "\n",
    "Example 3:\n",
    "Input: -7\n",
    "Output: -14\n",
    "\n",
    "```"
   ]
  },
  {
   "cell_type": "code",
   "execution_count": 60,
   "id": "7d1dba60",
   "metadata": {},
   "outputs": [
    {
     "name": "stdout",
     "output_type": "stream",
     "text": [
      "Result: 40.0\n"
     ]
    }
   ],
   "source": [
    "double = lambda num: num * 2\n",
    "\n",
    "def safe_double(num):\n",
    "    \n",
    "    try:\n",
    "        num = float(num)\n",
    "        return double(num)\n",
    "    except (ValueError, TypeError):\n",
    "        return \"Invalid input: must be a number\"\n",
    "\n",
    "user_input = input(\"Enter a number to double: \")\n",
    "result = safe_double(user_input)\n",
    "print(\"Result:\", result)\n",
    "\n",
    "  \n"
   ]
  },
  {
   "cell_type": "markdown",
   "id": "2a710560",
   "metadata": {},
   "source": [
    "# 2.Write a function that takes a list and returns a new list with only even numbers using filter.\n",
    "```\n",
    "Example 1: Input: [1, 2, 3, 4, 5, 6] Output: [2, 4, 6]\n",
    "\n",
    "Example 2: Input: [11, 13, 15, 18, 20] Output: [18, 20]\n",
    "\n",
    "Example 3: Input: [7, 9, 21] Output: []\n",
    "\n",
    "```"
   ]
  },
  {
   "cell_type": "code",
   "execution_count": 58,
   "id": "639c911e",
   "metadata": {},
   "outputs": [
    {
     "name": "stdout",
     "output_type": "stream",
     "text": [
      "Even numbers: [2, 4, 6, 8, 10]\n"
     ]
    }
   ],
   "source": [
    "def is_even(num):\n",
    "    return num & 1 == 0\n",
    "\n",
    "def get_even_numbers(numbers):\n",
    "    return list(filter(is_even, numbers))\n",
    "\n",
    "user_input = input(\"Enter a list of numbers separated by commas: \")\n",
    "\n",
    "try:\n",
    "    number_list = [int(item.strip()) for item in user_input.split(',')]\n",
    "    even_numbers = get_even_numbers(number_list)\n",
    "    print(\"Even numbers:\", even_numbers)\n",
    "except ValueError:\n",
    "    print(\"Invalid input: please enter only integers separated by commas.\")\n"
   ]
  },
  {
   "cell_type": "markdown",
   "id": "5027b4b2",
   "metadata": {},
   "source": [
    "# 3. Write a decorator that times the execution of a function and prints the time taken.\n",
    "```\n",
    "Example 1:\n",
    "A function that adds numbers from 1 to 1,000,000\n",
    "Output: Time taken: ~0.05 seconds\n",
    "\n",
    "Example 2:\n",
    "A function that sleeps for 2 seconds\n",
    "Output: Time taken: ~2.00 seconds\n",
    "\n",
    "Example 3:\n",
    "A function that multiplies two numbers (e.g., 10 * 20)\n",
    "Output: Time taken: ~0.00001 seconds\n",
    "```\n"
   ]
  },
  {
   "cell_type": "code",
   "execution_count": 53,
   "id": "863ca9cf",
   "metadata": {},
   "outputs": [
    {
     "name": "stdout",
     "output_type": "stream",
     "text": [
      "Time taken: 0.022969722747802734 seconds\n",
      "\n",
      "Time taken: 2.0005667209625244 seconds\n",
      "\n",
      "10 * 20 = 200\n",
      "Time taken: 4.363059997558594e-05 seconds\n",
      "\n"
     ]
    },
    {
     "data": {
      "text/plain": [
       "200"
      ]
     },
     "execution_count": 53,
     "metadata": {},
     "output_type": "execute_result"
    }
   ],
   "source": [
    "import time\n",
    "\n",
    "def execution_timer(func):\n",
    "    def wrapped(*args, **kwargs):\n",
    "        start_time = time.time()\n",
    "        result = func(*args, **kwargs)\n",
    "        end_time = time.time()\n",
    "        print(f\"Time taken: {end_time - start_time} seconds\\n\")\n",
    "        return result\n",
    "    return wrapped\n",
    "\n",
    "@execution_timer\n",
    "def compute_sum_upto(n):\n",
    "    total = sum(range(1, n + 1))\n",
    "    return total\n",
    "\n",
    "@execution_timer\n",
    "def pause_for_seconds(seconds):\n",
    "    time.sleep(seconds)\n",
    "    return seconds\n",
    "\n",
    "@execution_timer\n",
    "def product_of_numbers(a, b):\n",
    "    result = a * b\n",
    "    print(f\"{a} * {b} = {result}\")\n",
    "    return result\n",
    "\n",
    "compute_sum_upto(1_000_000)\n",
    "pause_for_seconds(2)\n",
    "product_of_numbers(10, 20)\n"
   ]
  },
  {
   "cell_type": "markdown",
   "id": "4c0af7af",
   "metadata": {},
   "source": []
  },
  {
   "cell_type": "markdown",
   "id": "76c319f1",
   "metadata": {},
   "source": [
    "# 4.Write a recursive function that takes a number n and returns a list of all numbers from n down to 1 and then back up to n.\n",
    "````\n",
    "\n",
    "Example 1:\n",
    "Input: 3\n",
    "Output: [3, 2, 1, 2, 3]\n",
    "\n",
    "Example 2:\n",
    "Input: 5\n",
    "Output: [5, 4, 3, 2, 1, 2, 3, 4, 5]\n",
    "\n",
    "```"
   ]
  },
  {
   "cell_type": "code",
   "execution_count": 55,
   "id": "697b600d",
   "metadata": {},
   "outputs": [
    {
     "name": "stdout",
     "output_type": "stream",
     "text": [
      "[3, 2, 1, 2, 3]\n",
      "[5, 4, 3, 2, 1, 2, 3, 4, 5]\n"
     ]
    }
   ],
   "source": [
    "def down_up_sequence(n):\n",
    "    if n == 1:\n",
    "        return [1]\n",
    "    elif n < 1:\n",
    "        print(\"Enter Positive Number \")\n",
    "    else:\n",
    "        return [n] + down_up_sequence(n - 1) + [n]\n",
    "\n",
    "print(down_up_sequence(3))  \n",
    "print(down_up_sequence(5)) \n"
   ]
  }
 ],
 "metadata": {
  "kernelspec": {
   "display_name": "Python 3",
   "language": "python",
   "name": "python3"
  },
  "language_info": {
   "codemirror_mode": {
    "name": "ipython",
    "version": 3
   },
   "file_extension": ".py",
   "mimetype": "text/x-python",
   "name": "python",
   "nbconvert_exporter": "python",
   "pygments_lexer": "ipython3",
   "version": "3.13.3"
  }
 },
 "nbformat": 4,
 "nbformat_minor": 5
}
