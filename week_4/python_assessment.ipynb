{
 "cells": [
  {
   "cell_type": "markdown",
   "id": "cb08b0d0",
   "metadata": {},
   "source": [
    "# 1.  Write a list comprehension to generate a list of squares from 1 to 10.\n",
    "\n",
    "```\n",
    "Example 1:\n",
    "Input: Range = 1 to 10\n",
    "Output: [1, 4, 9, 16, 25, 36, 49, 64, 81, 100]\n",
    "\n",
    "Example 2:\n",
    "Input: Range = 1 to 5\n",
    "Output: [1, 4, 9, 16, 25]\n",
    "\n",
    "Example 3:\n",
    "Input: Range = 3 to 6\n",
    "Output: [9, 16, 25, 36]\n",
    "```"
   ]
  },
  {
   "cell_type": "code",
   "execution_count": 1,
   "id": "50db78be",
   "metadata": {},
   "outputs": [
    {
     "name": "stdout",
     "output_type": "stream",
     "text": [
      "Output: [1, 4, 9, 16, 25, 36, 49, 64, 81, 100]\n"
     ]
    }
   ],
   "source": [
    "try:\n",
    "    start = int(input(\"Enter the start of range (>= 0): \"))\n",
    "    end = int(input(\"Enter the end of range (>= 0): \"))\n",
    "\n",
    "    if start < 0 or end < 0:\n",
    "        raise ValueError(\"Both start and end must be greater than or equal to 0.\")\n",
    "\n",
    "    if start > end:\n",
    "        raise ValueError(\"Start value must be less than or equal to end value.\")\n",
    "\n",
    "    squares = [x**2 for x in range(start, end + 1)]\n",
    "    print(\"Output:\", squares)\n",
    "\n",
    "except ValueError as ve:\n",
    "    print(\"Invalid input:\", ve)\n",
    "\n",
    "except Exception as e:\n",
    "    print(\"An unexpected error occurred:\", e)\n"
   ]
  },
  {
   "cell_type": "markdown",
   "id": "ddb67f8f",
   "metadata": {},
   "source": [
    "# 2.  Write a function that takes a list of numbers and returns their sum using enumerate (do not use sum()).\n",
    "\n",
    "```\n",
    "Example 1:\n",
    "Input: [1, 2, 3, 4]\n",
    "Output: 10\n",
    "\n",
    "Example 2:\n",
    "Input: [5, 10, 15]\n",
    "Output: 30\n",
    "\n",
    "Example 3:\n",
    "Input: [-1, 0, 1]\n",
    "Output: 0\n",
    "```"
   ]
  },
  {
   "cell_type": "code",
   "execution_count": 7,
   "id": "d85e20f9",
   "metadata": {},
   "outputs": [
    {
     "name": "stdout",
     "output_type": "stream",
     "text": [
      "The entered list is: [1.0, 2.0, 3.0, 4.0, 5.0, 6.0, 7.0, 8.0, 9.0]\n",
      "\n",
      "Sum of the elements in the list [1.0, 2.0, 3.0, 4.0, 5.0, 6.0, 7.0, 8.0, 9.0] is: 45.0\n"
     ]
    }
   ],
   "source": [
    "number_list = None\n",
    "\n",
    "try:\n",
    "    entered_list = input(\"Enter the elements in the list (separated by space): \").split()\n",
    "    number_list = list(map(float, entered_list))\n",
    "    \n",
    "    print(f\"The entered list is: {number_list}\")\n",
    "    print()\n",
    "\n",
    "except ValueError:\n",
    "    print(\"Please enter valid numeric values only.\")\n",
    "\n",
    "if number_list:\n",
    "    total = 0\n",
    "\n",
    "    for index, value in enumerate(number_list):\n",
    "        total += value\n",
    "\n",
    "    print(f\"Sum of the elements in the list {number_list} is: {total}\")\n"
   ]
  },
  {
   "cell_type": "markdown",
   "id": "0cc27dde",
   "metadata": {},
   "source": [
    "# 3.  Write a function that takes another function and returns a new function that logs input and output using decorators and f-strings.\n",
    "\n",
    "```\n",
    "Example 1:\n",
    "Input: logged_add([3, 5])\n",
    "Output: 8\n",
    "\n",
    "Example 2:\n",
    "Input: logged_concat([\"Hello\", \"World\"])\n",
    "Output: \"HelloWorld\"\n",
    "\n",
    "Example 3:\n",
    "Input: logged_multiply([4, 2])\n",
    "Output: 8\n"
   ]
  },
  {
   "cell_type": "code",
   "execution_count": 6,
   "id": "b86d91ef",
   "metadata": {},
   "outputs": [
    {
     "name": "stdout",
     "output_type": "stream",
     "text": [
      "Calling logged_add with input: [3, 5]\n",
      "Output from logged_add: 8\n",
      "Result: 8\n",
      "\n",
      "Calling logged_concat with input: ['Hello', 'World']\n",
      "Output from logged_concat: HelloWorld\n",
      "Result: HelloWorld\n",
      "\n",
      "Calling logged_multiply with input: [4, 2]\n",
      "Output from logged_multiply: 8\n",
      "Result: 8\n"
     ]
    }
   ],
   "source": [
    "def logger(func):\n",
    "    def wrapper(args):\n",
    "        print(f\"Calling {func.__name__} with input: {args}\")\n",
    "        result = func(args)\n",
    "        print(f\"Output from {func.__name__}: {result}\")\n",
    "        return result\n",
    "    return wrapper\n",
    "\n",
    "@logger\n",
    "def logged_add(numbers):\n",
    "    return sum(numbers)\n",
    "\n",
    "@logger\n",
    "def logged_concat(strings):\n",
    "    return ''.join(strings)\n",
    "\n",
    "@logger\n",
    "def logged_multiply(numbers):\n",
    "    result = 1\n",
    "    for num in numbers:\n",
    "        result *= num\n",
    "    return result\n",
    "\n",
    "print(\"Result:\", logged_add([3, 5]))    \n",
    "print()       \n",
    "print(\"Result:\", logged_concat([\"Hello\", \"World\"])) \n",
    "print()\n",
    "print(\"Result:\", logged_multiply([4, 2]))      \n"
   ]
  },
  {
   "cell_type": "code",
   "execution_count": null,
   "id": "f6dd024a",
   "metadata": {},
   "outputs": [],
   "source": []
  }
 ],
 "metadata": {
  "kernelspec": {
   "display_name": "Python 3",
   "language": "python",
   "name": "python3"
  },
  "language_info": {
   "codemirror_mode": {
    "name": "ipython",
    "version": 3
   },
   "file_extension": ".py",
   "mimetype": "text/x-python",
   "name": "python",
   "nbconvert_exporter": "python",
   "pygments_lexer": "ipython3",
   "version": "3.13.3"
  }
 },
 "nbformat": 4,
 "nbformat_minor": 5
}
